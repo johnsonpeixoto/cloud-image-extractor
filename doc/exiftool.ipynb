{
 "cells": [
  {
   "cell_type": "code",
   "execution_count": 1,
   "id": "a85ec9af",
   "metadata": {},
   "outputs": [],
   "source": [
    "# !pip install -U pyexiftool"
   ]
  },
  {
   "cell_type": "code",
   "execution_count": 2,
   "id": "a4011609",
   "metadata": {},
   "outputs": [
    {
     "name": "stdout",
     "output_type": "stream",
     "text": [
      "12.49\n"
     ]
    }
   ],
   "source": [
    "!exiftool -ver"
   ]
  },
  {
   "cell_type": "code",
   "execution_count": 3,
   "id": "81404b90-c0a3-460c-8689-7dad66ff1b34",
   "metadata": {},
   "outputs": [],
   "source": [
    "import exiftool\n",
    "from exiftool import ExifToolHelper\n",
    "import json"
   ]
  },
  {
   "cell_type": "code",
   "execution_count": 8,
   "id": "39c721fb-336d-42f4-b3b4-f35b4d22a59c",
   "metadata": {},
   "outputs": [
    {
     "name": "stdout",
     "output_type": "stream",
     "text": [
      "{\n",
      "    \"SourceFile\": \"../tmp/concurso.pdf\",\n",
      "    \"ExifTool:ExifToolVersion\": 12.49,\n",
      "    \"File:FileName\": \"concurso.pdf\",\n",
      "    \"File:Directory\": \"../tmp\",\n",
      "    \"File:FileSize\": 35067,\n",
      "    \"File:FileModifyDate\": \"2022:11:18 14:59:42-03:00\",\n",
      "    \"File:FileAccessDate\": \"2022:11:18 14:59:43-03:00\",\n",
      "    \"File:FileInodeChangeDate\": \"2022:11:18 14:59:42-03:00\",\n",
      "    \"File:FilePermissions\": 100777,\n",
      "    \"File:FileType\": \"PDF\",\n",
      "    \"File:FileTypeExtension\": \"PDF\",\n",
      "    \"File:MIMEType\": \"application/pdf\",\n",
      "    \"PDF:PDFVersion\": 1.3,\n",
      "    \"PDF:Linearized\": false,\n",
      "    \"PDF:PageCount\": 1,\n",
      "    \"PDF:Producer\": \"Centro de Hematologia e Hemoterapia do Cear\\u00e1 - HEMOCE\",\n",
      "    \"PDF:Creator\": \"Portal do Doador\",\n",
      "    \"PDF:CreateDate\": \"2022:11:18 17:36:40Z\",\n",
      "    \"PDF:Title\": \"Declara\\u00e7\\u00e3o de doa\\u00e7\\u00f5es- FRANCISCO LINDONJOHNSON PEIXOTO LOURENCO\"\n",
      "}\n"
     ]
    }
   ],
   "source": [
    "# Obtendo todas as informações da imagem\n",
    "\n",
    "with ExifToolHelper() as et:\n",
    "    for d in et.get_metadata(\"../tmp/21d2265c-e057-4046-acbb-e806558a0734-IMG_6920.heic\"):\n",
    "        print(json.dumps(d, indent = 4))\n",
    "        # for k, v in d.items():\n",
    "        #     print(f\"Dict: {k} = {v}\")"
   ]
  },
  {
   "cell_type": "code",
   "execution_count": null,
   "id": "7f4be242-85f0-408d-ba9e-b73ef7d0f955",
   "metadata": {},
   "outputs": [
    {
     "ename": "",
     "evalue": "",
     "output_type": "error",
     "traceback": [
      "\u001b[1;31mRunning cells with 'Python 3.8.10 ('cloud-image-extractor-gBWuKxtU-py3.8')' requires ipykernel package.\n",
      "\u001b[1;31mRun the following command to install 'ipykernel' into the Python environment. \n",
      "\u001b[1;31mCommand: '/home/johnson/.cache/pypoetry/virtualenvs/cloud-image-extractor-gBWuKxtU-py3.8/bin/python -m pip install ipykernel -U --force-reinstall'"
     ]
    }
   ],
   "source": [
    "# Obtendo somente as informações de tamanho do arquivo e a dimenção da imagem, a partir de duas imagens\n",
    "\n",
    "with ExifToolHelper() as et:\n",
    "    for d in et.get_tags([\"./tmp/phishing.png\", \"./tmp/maos.png\"], tags=[\"FileSize\", \"ImageSize\"]):\n",
    "        for k, v in d.items():\n",
    "            print(f\"Dict: {k} = {v}\")"
   ]
  },
  {
   "cell_type": "code",
   "execution_count": null,
   "id": "db52d36a-ad16-4bc2-9ead-5a6dd4c8f694",
   "metadata": {},
   "outputs": [
    {
     "ename": "",
     "evalue": "",
     "output_type": "error",
     "traceback": [
      "\u001b[1;31mRunning cells with 'Python 3.8.10 ('cloud-image-extractor-gBWuKxtU-py3.8')' requires ipykernel package.\n",
      "\u001b[1;31mRun the following command to install 'ipykernel' into the Python environment. \n",
      "\u001b[1;31mCommand: '/home/johnson/.cache/pypoetry/virtualenvs/cloud-image-extractor-gBWuKxtU-py3.8/bin/python -m pip install ipykernel -U --force-reinstall'"
     ]
    }
   ],
   "source": []
  }
 ],
 "metadata": {
  "kernelspec": {
   "display_name": "Python 3.8.10 ('cloud-image-extractor-gBWuKxtU-py3.8')",
   "language": "python",
   "name": "python3"
  },
  "language_info": {
   "codemirror_mode": {
    "name": "ipython",
    "version": 3
   },
   "file_extension": ".py",
   "mimetype": "text/x-python",
   "name": "python",
   "nbconvert_exporter": "python",
   "pygments_lexer": "ipython3",
   "version": "3.8.10"
  },
  "vscode": {
   "interpreter": {
    "hash": "6731ea07d67838d023b4efa9d929364db710d3fe631bf4cf1e68a4947e96dc52"
   }
  }
 },
 "nbformat": 4,
 "nbformat_minor": 5
}
