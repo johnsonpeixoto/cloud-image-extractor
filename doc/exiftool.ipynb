{
 "cells": [
  {
   "cell_type": "code",
   "execution_count": 1,
   "id": "a85ec9af",
   "metadata": {},
   "outputs": [],
   "source": [
    "# !pip install -U pyexiftool"
   ]
  },
  {
   "cell_type": "code",
   "execution_count": 2,
   "id": "a4011609",
   "metadata": {},
   "outputs": [
    {
     "name": "stdout",
     "output_type": "stream",
     "text": [
      "12.49\n"
     ]
    }
   ],
   "source": [
    "!exiftool -ver"
   ]
  },
  {
   "cell_type": "code",
   "execution_count": 3,
   "id": "81404b90-c0a3-460c-8689-7dad66ff1b34",
   "metadata": {},
   "outputs": [],
   "source": [
    "import exiftool\n",
    "from exiftool import ExifToolHelper\n",
    "import json"
   ]
  },
  {
   "cell_type": "code",
   "execution_count": 7,
   "id": "39c721fb-336d-42f4-b3b4-f35b4d22a59c",
   "metadata": {},
   "outputs": [
    {
     "name": "stdout",
     "output_type": "stream",
     "text": [
      "{\n",
      "    \"SourceFile\": \"./tmp/maos.png\",\n",
      "    \"ExifTool:ExifToolVersion\": 12.49,\n",
      "    \"File:FileName\": \"maos.png\",\n",
      "    \"File:Directory\": \"./tmp\",\n",
      "    \"File:FileSize\": 25450,\n",
      "    \"File:FileModifyDate\": \"2022:11:10 12:11:14-03:00\",\n",
      "    \"File:FileAccessDate\": \"2022:11:10 12:11:14-03:00\",\n",
      "    \"File:FileInodeChangeDate\": \"2022:11:10 12:11:14-03:00\",\n",
      "    \"File:FilePermissions\": 100777,\n",
      "    \"File:FileType\": \"PNG\",\n",
      "    \"File:FileTypeExtension\": \"PNG\",\n",
      "    \"File:MIMEType\": \"image/png\",\n",
      "    \"PNG:ImageWidth\": 628,\n",
      "    \"PNG:ImageHeight\": 408,\n",
      "    \"PNG:BitDepth\": 8,\n",
      "    \"PNG:ColorType\": 6,\n",
      "    \"PNG:Compression\": 0,\n",
      "    \"PNG:Filter\": 0,\n",
      "    \"PNG:Interlace\": 0,\n",
      "    \"PNG:SRGBRendering\": 0,\n",
      "    \"PNG:SignificantBits\": \"8 8 8 8\",\n",
      "    \"PNG:Gamma\": 2.2,\n",
      "    \"PNG:PixelsPerUnitX\": 4724,\n",
      "    \"PNG:PixelsPerUnitY\": 4724,\n",
      "    \"PNG:PixelUnits\": 1,\n",
      "    \"XMP:AdsCreated\": \"2022-11-07\",\n",
      "    \"XMP:AdsExtId\": \"dbd7fd8c-ce1d-4e29-b749-378059b15898\",\n",
      "    \"XMP:AdsFbId\": 525265914179580,\n",
      "    \"XMP:AdsTouchType\": 2,\n",
      "    \"XMP:Title\": \"M\\u00e3os Caridosas! - 1\",\n",
      "    \"XMP:CreatorTool\": \"Canva\",\n",
      "    \"Composite:ImageSize\": \"628 408\",\n",
      "    \"Composite:Megapixels\": 0.256224\n",
      "}\n"
     ]
    }
   ],
   "source": [
    "# Obtendo todas as informações da imagem\n",
    "\n",
    "with ExifToolHelper() as et:\n",
    "    for d in et.get_metadata(\"./tmp/maos.png\"):\n",
    "        print(json.dumps(d, indent = 4))\n",
    "        # for k, v in d.items():\n",
    "        #     print(f\"Dict: {k} = {v}\")"
   ]
  },
  {
   "cell_type": "code",
   "execution_count": 5,
   "id": "7f4be242-85f0-408d-ba9e-b73ef7d0f955",
   "metadata": {},
   "outputs": [
    {
     "name": "stdout",
     "output_type": "stream",
     "text": [
      "Dict: SourceFile = ./tmp/phishing.png\n",
      "Dict: File:FileSize = 51794\n",
      "Dict: Composite:ImageSize = 267 290\n",
      "Dict: SourceFile = ./tmp/maos.png\n",
      "Dict: File:FileSize = 25450\n",
      "Dict: Composite:ImageSize = 628 408\n"
     ]
    }
   ],
   "source": [
    "# Obtendo somente as informações de tamanho do arquivo e a dimenção da imagem, a partir de duas imagens\n",
    "\n",
    "with ExifToolHelper() as et:\n",
    "    for d in et.get_tags([\"./tmp/phishing.png\", \"./tmp/maos.png\"], tags=[\"FileSize\", \"ImageSize\"]):\n",
    "        for k, v in d.items():\n",
    "            print(f\"Dict: {k} = {v}\")"
   ]
  },
  {
   "cell_type": "code",
   "execution_count": null,
   "id": "db52d36a-ad16-4bc2-9ead-5a6dd4c8f694",
   "metadata": {},
   "outputs": [],
   "source": []
  }
 ],
 "metadata": {
  "kernelspec": {
   "display_name": "Python 3.8.2 64-bit",
   "language": "python",
   "name": "python3"
  },
  "language_info": {
   "codemirror_mode": {
    "name": "ipython",
    "version": 3
   },
   "file_extension": ".py",
   "mimetype": "text/x-python",
   "name": "python",
   "nbconvert_exporter": "python",
   "pygments_lexer": "ipython3",
   "version": "3.8.10"
  },
  "vscode": {
   "interpreter": {
    "hash": "31f2aee4e71d21fbe5cf8b01ff0e069b9275f58929596ceb00d14d90e3e16cd6"
   }
  }
 },
 "nbformat": 4,
 "nbformat_minor": 5
}
