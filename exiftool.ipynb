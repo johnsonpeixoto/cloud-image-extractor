{
 "cells": [
  {
   "cell_type": "code",
   "execution_count": 5,
   "id": "a85ec9af",
   "metadata": {},
   "outputs": [
    {
     "name": "stdout",
     "output_type": "stream",
     "text": [
      "Requirement already up-to-date: pyexiftool in /home/johnson/.local/lib/python3.8/site-packages (0.5.4)\n"
     ]
    }
   ],
   "source": [
    "!pip install -U pyexiftool"
   ]
  },
  {
   "cell_type": "code",
   "execution_count": 6,
   "id": "a4011609",
   "metadata": {},
   "outputs": [
    {
     "name": "stdout",
     "output_type": "stream",
     "text": [
      "12.49\n"
     ]
    }
   ],
   "source": [
    "!exiftool -ver"
   ]
  },
  {
   "cell_type": "code",
   "execution_count": 7,
   "id": "81404b90-c0a3-460c-8689-7dad66ff1b34",
   "metadata": {},
   "outputs": [],
   "source": [
    "import exiftool\n",
    "from exiftool import ExifToolHelper"
   ]
  },
  {
   "cell_type": "code",
   "execution_count": 8,
   "id": "39c721fb-336d-42f4-b3b4-f35b4d22a59c",
   "metadata": {},
   "outputs": [
    {
     "name": "stdout",
     "output_type": "stream",
     "text": [
      "Dict: SourceFile = phishing.png\n",
      "Dict: ExifTool:ExifToolVersion = 12.49\n",
      "Dict: File:FileName = phishing.png\n",
      "Dict: File:Directory = .\n",
      "Dict: File:FileSize = 51794\n",
      "Dict: File:FileModifyDate = 2022:11:04 18:39:40-03:00\n",
      "Dict: File:FileAccessDate = 2022:11:05 12:01:18-03:00\n",
      "Dict: File:FileInodeChangeDate = 2022:11:04 18:39:40-03:00\n",
      "Dict: File:FilePermissions = 100777\n",
      "Dict: File:FileType = PNG\n",
      "Dict: File:FileTypeExtension = PNG\n",
      "Dict: File:MIMEType = image/png\n",
      "Dict: PNG:ImageWidth = 267\n",
      "Dict: PNG:ImageHeight = 290\n",
      "Dict: PNG:BitDepth = 8\n",
      "Dict: PNG:ColorType = 6\n",
      "Dict: PNG:Compression = 0\n",
      "Dict: PNG:Filter = 0\n",
      "Dict: PNG:Interlace = 0\n",
      "Dict: PNG:SRGBRendering = 0\n",
      "Dict: PNG:Gamma = 2.2\n",
      "Dict: PNG:PixelsPerUnitX = 4724\n",
      "Dict: PNG:PixelsPerUnitY = 4724\n",
      "Dict: PNG:PixelUnits = 1\n",
      "Dict: Composite:ImageSize = 267 290\n",
      "Dict: Composite:Megapixels = 0.07743\n"
     ]
    }
   ],
   "source": [
    "# Obtendo todas as informações da imagem\n",
    "\n",
    "with ExifToolHelper() as et:\n",
    "    for d in et.get_metadata(\"phishing.png\"):\n",
    "        for k, v in d.items():\n",
    "            print(f\"Dict: {k} = {v}\")"
   ]
  },
  {
   "cell_type": "code",
   "execution_count": 9,
   "id": "7f4be242-85f0-408d-ba9e-b73ef7d0f955",
   "metadata": {},
   "outputs": [
    {
     "name": "stdout",
     "output_type": "stream",
     "text": [
      "Dict: SourceFile = phishing.png\n",
      "Dict: File:FileSize = 51794\n",
      "Dict: Composite:ImageSize = 267 290\n"
     ]
    }
   ],
   "source": [
    "# Obtendo somente as informações de tamanho do arquivo e a dimenção da imagem, a partir de duas imagens\n",
    "\n",
    "with ExifToolHelper() as et:\n",
    "    for d in et.get_tags([\"phishing.png\"], tags=[\"FileSize\", \"ImageSize\"]):\n",
    "        for k, v in d.items():\n",
    "            print(f\"Dict: {k} = {v}\")"
   ]
  },
  {
   "cell_type": "code",
   "execution_count": null,
   "id": "db52d36a-ad16-4bc2-9ead-5a6dd4c8f694",
   "metadata": {},
   "outputs": [],
   "source": []
  }
 ],
 "metadata": {
  "kernelspec": {
   "display_name": "Python 3.8.2 64-bit",
   "language": "python",
   "name": "python3"
  },
  "language_info": {
   "codemirror_mode": {
    "name": "ipython",
    "version": 3
   },
   "file_extension": ".py",
   "mimetype": "text/x-python",
   "name": "python",
   "nbconvert_exporter": "python",
   "pygments_lexer": "ipython3",
   "version": "3.8.10"
  },
  "vscode": {
   "interpreter": {
    "hash": "31f2aee4e71d21fbe5cf8b01ff0e069b9275f58929596ceb00d14d90e3e16cd6"
   }
  }
 },
 "nbformat": 4,
 "nbformat_minor": 5
}
